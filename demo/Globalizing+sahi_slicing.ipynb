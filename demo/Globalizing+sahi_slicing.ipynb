{
 "cells": [
  {
   "cell_type": "code",
   "execution_count": 1,
   "id": "b89c6aaf",
   "metadata": {},
   "outputs": [],
   "source": [
    "import re\n",
    "from os import listdir\n",
    "from os.path import isfile, join"
   ]
  },
  {
   "cell_type": "code",
   "execution_count": 2,
   "id": "c5522ae4",
   "metadata": {},
   "outputs": [],
   "source": [
    "def sort_files(value):\n",
    "    num = re.compile(r'(\\d+)')\n",
    "    chunks = num.split(value)\n",
    "    chunks[1::2] = map(int, chunks[1::2])\n",
    "    return chunks\n",
    "\n"
   ]
  },
  {
   "cell_type": "code",
   "execution_count": null,
   "id": "5a6b05bf",
   "metadata": {},
   "outputs": [],
   "source": [
    "img_dir = 'sliced_seq1'"
   ]
  },
  {
   "cell_type": "code",
   "execution_count": null,
   "id": "06dc1f48",
   "metadata": {},
   "outputs": [],
   "source": [
    "files = [file for file in listdir(img_dir)\n",
    "                    if isfile(join(img_dir, file))]\n",
    "print('Before Sorting = ',files)\n",
    "files.sort(key = sort_files)\n",
    "print('\\nAfter Sorting = ',files)"
   ]
  },
  {
   "cell_type": "code",
   "execution_count": null,
   "id": "acf9fbcf",
   "metadata": {},
   "outputs": [],
   "source": [
    "s1 = files[4]\n",
    "s1 = s1.replace(\"__\",\"\")\n",
    "s1_split_name = s1.split('.jpg')\n",
    "w, h = map(int, s1_split_name[1].split('_'))\n",
    "#add_height = int(h), int(w)\n",
    "print(type(h),h,type(w),w)"
   ]
  },
  {
   "cell_type": "markdown",
   "id": "4b83a70e",
   "metadata": {},
   "source": [
    "# Slicing using SAHI"
   ]
  },
  {
   "cell_type": "code",
   "execution_count": 2,
   "id": "376a7418",
   "metadata": {},
   "outputs": [],
   "source": [
    "from sahi.slicing import slice_image\n",
    "import cv2\n",
    "import matplotlib.pyplot as plt\n",
    "\n",
    "path = 'SEQ_04_002.jpg'\n",
    "folder = 'n1/'\n",
    "slice_height = None\n",
    "slice_width = None\n",
    "overlap_height_ratio = 0.8\n",
    "overlap_width_ratio = 0.8\n",
    "auto_slice_resolution = True"
   ]
  },
  {
   "cell_type": "code",
   "execution_count": 3,
   "id": "95037327",
   "metadata": {},
   "outputs": [
    {
     "name": "stderr",
     "output_type": "stream",
     "text": [
      "12/01/2022 15:36:15 - WARNING - sahi.slicing -   Starting from version `0.10.2`, `auto_slice_resolution=True` is introduced as the default behavior for determining slice height and width automatically calculated by the image properties (resolution, aspect ratio and orientation).\n"
     ]
    }
   ],
   "source": [
    "image = cv2.imread(path)\n",
    "\n",
    "slice_image_result = slice_image(\n",
    "        image=image,\n",
    "        slice_height=slice_height,\n",
    "        slice_width=slice_width,\n",
    "        overlap_height_ratio=overlap_height_ratio,\n",
    "        overlap_width_ratio=overlap_width_ratio,\n",
    "        auto_slice_resolution=auto_slice_resolution,\n",
    "    )"
   ]
  },
  {
   "cell_type": "code",
   "execution_count": 4,
   "id": "1bcff9ce",
   "metadata": {},
   "outputs": [
    {
     "name": "stdout",
     "output_type": "stream",
     "text": [
      "(6503, 4335, 3)\n"
     ]
    },
    {
     "data": {
      "text/plain": [
       "\"\\nnum = 1\\nfor image in images:\\n    cv2.imwrite(folder+'slice_nmbr_'+str(num)+'_'+path,image)\\n    num+=1\\nprint('done')\\n\""
      ]
     },
     "execution_count": 4,
     "metadata": {},
     "output_type": "execute_result"
    }
   ],
   "source": [
    "images = slice_image_result.images[0].shape\n",
    "print(images)\n",
    "'''\n",
    "num = 1\n",
    "for image in images:\n",
    "    cv2.imwrite(folder+'slice_nmbr_'+str(num)+'_'+path,image)\n",
    "    num+=1\n",
    "print('done')\n",
    "'''"
   ]
  }
 ],
 "metadata": {
  "kernelspec": {
   "display_name": "Python 3 (ipykernel)",
   "language": "python",
   "name": "python3"
  },
  "language_info": {
   "codemirror_mode": {
    "name": "ipython",
    "version": 3
   },
   "file_extension": ".py",
   "mimetype": "text/x-python",
   "name": "python",
   "nbconvert_exporter": "python",
   "pygments_lexer": "ipython3",
   "version": "3.9.12"
  }
 },
 "nbformat": 4,
 "nbformat_minor": 5
}
